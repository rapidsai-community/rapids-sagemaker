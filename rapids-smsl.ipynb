{
 "cells": [
  {
   "cell_type": "markdown",
   "id": "b59f36ab-690a-4bac-adf9-7fd93534f404",
   "metadata": {
    "tags": []
   },
   "source": [
    "# Getting Started with RAPIDS on SageMaker Studio Lab\n",
    "\n",
    "So you want to run RAPIDS on SageMaker Studio Lab?  Well, here's a great entry point.  Below, you will see a section on\n",
    "1. **[Installing RAPIDS](#Installing-RAPIDS)**- installation methods to get RAPIDS onto SageMaker Studio Lab\n",
    "1.  **[Links to RAPIDS Notebooks and Repos](#Links-to-RAPIDS-Notebooks-and-Repos)** - ready to run examples that you can quickly import into to SageMaker Studio Lab and run\n",
    "1. **[Tips and Tricks](#Tips-and-Tricks)**- Get the most out of your RAPIDS + SageMaker Studio Lab Expereince\n",
    "\n",
    "To run this guide, you only need two things:\n",
    "1. An active SageMaker Studio Lab account (get one here: https://studiolab.sagemaker.aws/)\n",
    "1. An actively running GPU instance in that account\n",
    "\n",
    "Please Github Clone the entire so that you can pull the latest source of this page and keep it update (more on how later).  RAPIDS versions do change, as will the install script.  New Tips and Tricks also will be added as they are discovered.\n",
    "\n",
    "____\n",
    "\n",
    "## Installing RAPIDS\n",
    "\n",
    "One of the cool things about SageMaker Studio Lab is that your instance is persistant, so what you install today will keep going until you delete it.  It will be like using a docker container.  That means that you will only need to run the install script ONCE per RAPIDS Stable release.  With Nightlies, you will download and install on every release that you want to run.  \n",
    "\n",
    "### Method 1: Clone this Repo and Auto-Install the Current RAPIDS Stable Environment\n",
    "\n",
    "Easiest way to install RAPIDS into SageMaker Studio Lab:\n",
    "1. Click this button [![Open in SageMaker Studio Lab](https://studiolab.sagemaker.aws/studiolab.svg)](https://rapids.ai/smsl.html)\n",
    "2. Click the `Copy to Project` button\n",
    "3. When prompted, select `Clone Entire Repo`\n",
    "4. After customizing any directories, ensure that `Search for environment.yml and build Conda environment` is checked and click `Clone`\n",
    "5. Once completed, please go to **[Links to RAPIDS Notebooks and Repos](#Links-to-RAPIDS-Notebooks-and-Repos)** and get some Notebooks to run RAPIDS on!\n",
    "\n",
    "You only need to do this ONCE per RAPIDS release.  Please look at our **[Tips and Tricks](#Tips-and-Tricks)** section conserve your storage space when upgrading\n",
    "\n",
    "### Method 2: Manually install RAPIDS\n",
    "\n",
    "Please run this is you want to customize your install in any way\n",
    "\n",
    "#### RAPIDS Stable (22.10)\n",
    "Execute the cell below to install the current RAPIDS version.  Only required ONCE per release."
   ]
  },
  {
   "cell_type": "code",
   "execution_count": null,
   "id": "8aacd4e0-1dcc-4f21-a279-57f8a25e2aec",
   "metadata": {},
   "outputs": [],
   "source": [
    "%conda create -n rapids-22.10 -c rapidsai -c nvidia -c conda-forge rapids=22.10 python=3.9 cudatoolkit=11.5 dask-sql ipykernel -y"
   ]
  },
  {
   "cell_type": "markdown",
   "id": "cb1abd97-0072-4d26-b36b-cc9522ccb685",
   "metadata": {},
   "source": [
    "#### RAPIDS Nightly (22.12)\n",
    "Execute the cell below to install the current RAPIDS Nightly. Required as you want to try out an updated library.  Please remember to clean up old nightlies."
   ]
  },
  {
   "cell_type": "code",
   "execution_count": null,
   "id": "ffb0bf78-94ff-40b8-9686-f5f8d525d358",
   "metadata": {},
   "outputs": [],
   "source": [
    "%conda create -n rapids-22.12-nightly -c rapidsai-nightly -c nvidia -c conda-forge -c dask/label/dev rapids=22.12 python=3.9 cudatoolkit=11.5 dask/label/dev::dask-sql strings_udf pyngrok s3fs dask-ml plotly ipykernel -y"
   ]
  },
  {
   "cell_type": "markdown",
   "id": "9ce351c5-2360-4940-a1c7-517715b7bdc5",
   "metadata": {
    "tags": []
   },
   "source": [
    "____\n",
    "\n",
    "## Links to RAPIDS Notebooks and Repos\n",
    "Now that you've installed RAPIDS into SageMaker Studio Lab, you will have some new kernel options when you open a notebook.  Please select a notebook from the list.  You may clone the entire repo, but please remember your 15GB data limits apply!:\n",
    "\n",
    "### Great Notebooks to help you get started\n",
    "    \n",
    "* [![Open in SageMaker Studio Lab](https://studiolab.sagemaker.aws/studiolab.svg)](https://studiolab.sagemaker.aws/import/github/rapidsai-community/notebooks-contrib/blob/main/getting_started_materials/intro_tutorials_and_guides/01_Introduction_to_RAPIDS.ipynb) Intro to RAPIDS Notebook #1\n",
    "\n",
    "* [![Open in SageMaker Studio Lab](https://studiolab.sagemaker.aws/studiolab.svg)](https://studiolab.sagemaker.aws/import/github/rapidsai/cudf/blob/branch-22.04/docs/cudf/source/user_guide/10min.ipynb) 10 Minutes to cuDF and Dask cuDF\n",
    "\n",
    "* [![Open in SageMaker Studio Lab](https://studiolab.sagemaker.aws/studiolab.svg)](https://studiolab.sagemaker.aws/import/github/rapidsai/cuml/blob/branch-22.04/docs/source/estimator_intro.ipynb) Training and Evaluating Machine Learning Models in cuML\n",
    "\n",
    "* [![Open in SageMaker Studio Lab](https://studiolab.sagemaker.aws/studiolab.svg)](https://studiolab.sagemaker.aws/import/github/rapidsai/cuxfilter/blob/branch-22.04/docs/source/10_minutes_to_cuxfilter.ipynb) 10 Minutes to cuXFilter\n",
    "\n",
    "* [![Open in SageMaker Studio Lab](https://studiolab.sagemaker.aws/studiolab.svg)](https://studiolab.sagemaker.aws/import/github/rapidsai-community/notebooks-contrib/blob/main/community_tutorials_and_guides/dask-sql/smsl-dask-sql.ipynb) Getting Started with RAPIDS and Dask-SQL\n",
    "\n",
    "### Great Repos to Clone to help you go forward\n",
    "\n",
    "#### General Repos\n",
    "\n",
    "* <button class=\"jp-mod-styled\" data-commandlinker-command=\"git:clone\" data-commandlinker-args=\"{&quot;URL&quot;: &quot;https://github.com/rapidsai-community/notebooks-contrib.git&quot;}\">Clone RAPIDSAI Community Notebooks(RAPIDSAI/Community)</button>\n",
    "* <button class=\"jp-mod-styled\" data-commandlinker-command=\"git:clone\" data-commandlinker-args=\"{&quot;URL&quot;: &quot;https://github.com/RAPIDSAcademy/rapidsacademy.git&quot;}\">Clone LearnRAPIDS Multi-GPU Mini Tour (Community))</button>\n",
    "\n",
    "#### RAPIDS and Deep Learning \n",
    "\n",
    "* <button class=\"jp-mod-styled\" data-commandlinker-command=\"git:clone\" data-commandlinker-args=\"{&quot;URL&quot;: &quot;https://github.com/rapidsai/deeplearning.git&quot;}\">Clone Official RAPIDSAI Deep Learning Repo (RAPIDSAI))</button>\n",
    "* <button class=\"jp-mod-styled\" data-commandlinker-command=\"git:clone\" data-commandlinker-args=\"{&quot;URL&quot;: &quot;https://github.com/gpuhackathons-org/gpubootcamp/blob/master/ai/RAPIDS/.git&quot;}\">Clone GPU Hackthons RAPIDS + Deep Learning Crash Course (NVIDIA))</button>\n",
    "\n",
    "#### Finacial Analytics\n",
    "\n",
    "* <button class=\"jp-mod-styled\" data-commandlinker-command=\"git:clone\" data-commandlinker-args=\"{&quot;URL&quot;: &quot;https://github.com/NVIDIA/fsi-samples.git&quot;}\">Clone NVIDIA FSI Examples (NVIDIA)</button>\n",
    "\n",
    "\n",
    "____\n",
    "\n",
    "## Tips and Tricks\n",
    "\n",
    "### Official RAPIDS Cheat Sheets\n",
    "\n",
    "* [cuDF Cheat Sheet (PDF Download)](https://forums.developer.nvidia.com/uploads/short-url/mIndAvHNud3UXeWwC7Ore3d021D.pdf)\n",
    "* [cuGraph Cheat Sheet (PDF Download)](https://forums.developer.nvidia.com/uploads/short-url/kIbMG6LZjFfLFibbyqvVl2XcSbB.pdf)\n",
    "* [RAPIDS-Dask Cheat Sheet (PDF Download)](https://forums.developer.nvidia.com/uploads/short-url/xiN07MC8FSHsXS6lekxSaY1CWs4.pdf)\n",
    "* [CLX and cyBert Cheat Sheet (PDF Download)](https://forums.developer.nvidia.com/uploads/short-url/edzS5WizVTYZMWRtTl3AqHI5AL4.pdf)\n",
    "* [cuSignal Cheat Sheet (PDF Download)](https://forums.developer.nvidia.com/uploads/short-url/hkh6vQ2rzl6mAHL8Vt0CYhctark.pdf)\n",
    "\n",
    "### SageMaker Studio Lab Conda Tips\n",
    "\n",
    "* `Libnuma` dependancy causes cuML and cuGraph to fail import in RAPIDS 22.02 and possibly 22.04 (https://github.com/rapidsai/ucx-py/issues/790) \n",
    "  * cuML user workaround: Uninstall `ucx-py` using conda in your RAPIDS (https://github.com/rapidsai/cuml/issues/4616)\n",
    "* Updating this repo: \n",
    "  * run `git pull` in Terminal with in the directory of this notebook.\n",
    "  * run the code cell below, that has `!git pull` in it\n",
    "* If you accidentally break a conda instance: Rollback!\n",
    "* Always make sure that if you are installing a new environment, that you install it with `ipykernel`\n",
    "* If you have an example that you'd like to share with a specifc Environment, \n",
    "  * run: `!conda env export --no-builds> environment.yml` (this will prevent your instance from breaking because it can't find a certain tag)\n",
    "  * make a new repo with the notebook\n",
    "  * put `environment.yml` in the root of your repo\n",
    "  * instruct people to import the envinroment file when cloning\n",
    "* How to remove an unneeded environment using CLI (useful for cleaning up RAPIDS Nightly or Legacy Stable builds):\n",
    "  1. To remove the environment instance, run `conda env remove -n <name of environment>`\n",
    "  1. To remove the now unused packages (they take up space), run `conda clean --all` \n"
   ]
  },
  {
   "cell_type": "markdown",
   "id": "dee03947-4be3-489a-86a6-9d9553b46e7d",
   "metadata": {},
   "source": [
    "### Get the Lastest Updates for this Repo"
   ]
  },
  {
   "cell_type": "code",
   "execution_count": 1,
   "id": "0cfc158e-4d0c-4f88-9e16-ba21fbfd0b3a",
   "metadata": {},
   "outputs": [
    {
     "name": "stdout",
     "output_type": "stream",
     "text": [
      "Already up to date.\n"
     ]
    }
   ],
   "source": [
    "!git pull"
   ]
  }
 ],
 "metadata": {
  "kernelspec": {
   "display_name": "Python 3 (ipykernel)",
   "language": "python",
   "name": "python3"
  },
  "language_info": {
   "codemirror_mode": {
    "name": "ipython",
    "version": 3
   },
   "file_extension": ".py",
   "mimetype": "text/x-python",
   "name": "python",
   "nbconvert_exporter": "python",
   "pygments_lexer": "ipython3",
   "version": "3.9.7"
  }
 },
 "nbformat": 4,
 "nbformat_minor": 5
}
